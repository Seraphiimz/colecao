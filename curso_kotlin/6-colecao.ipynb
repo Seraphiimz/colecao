{
 "cells": [
  {
   "cell_type": "markdown",
   "source": [
    "![Logo do Kotlin](https://upload.wikimedia.org/wikipedia/commons/thumb/d/d4/Kotlin_logo.svg/2560px-Kotlin_logo.svg.png)\n",
    "\n"
   ],
   "metadata": {
    "collapsed": false
   }
  },
  {
   "cell_type": "markdown",
   "source": [
    "***\n",
    "## Coleções\n",
    "Kotlin tem várias coleções, como **Listas**, **Array**, **Conjuntos**  e **Map**. Vamos ver um exemplo de cada uma:\n",
    "\n",
    "//João Victor\n"
   ],
   "metadata": {
    "collapsed": false
   }
  },
  {
   "cell_type": "code",
   "outputs": [
    {
     "name": "stdout",
     "output_type": "stream",
     "text": [
      "O último elemento da lista é 5\r\n"
     ]
    }
   ],
   "source": [
    "val numeros = listOf(1, 2, 3, 4, 5)\n",
    "println(\"O último elemento da lista é ${numeros[numeros.size - 1]}\")"
   ],
   "metadata": {
    "collapsed": false,
    "ExecuteTime": {
     "end_time": "2024-03-11T21:57:36.208102600Z",
     "start_time": "2024-03-11T21:57:35.723424900Z"
    }
   },
   "execution_count": 73
  },
  {
   "cell_type": "markdown",
   "source": [
    " A função **listOf** cria uma lista imutável. Ou seja, não há o método **add* para acrescentar novos elementos. O tipo dessa lista é **List<Int>**. Você não precisa especificar o tipo, já que o Kotlin tem inferência de tipos. Mas, se quiser especificar, pode fazer da seguinte forma: "
   ],
   "metadata": {
    "collapsed": false
   }
  },
  {
   "cell_type": "code",
   "outputs": [],
   "source": [
    "val numeros2: List<Int> = listOf(1, 2, 3, 4, 5)"
   ],
   "metadata": {
    "collapsed": false,
    "ExecuteTime": {
     "end_time": "2024-03-11T21:57:36.247995700Z",
     "start_time": "2024-03-11T21:57:35.781243200Z"
    }
   },
   "execution_count": 74
  },
  {
   "cell_type": "markdown",
   "source": [
    "Se tentarmos acrescentar um novo elemento na lista, o programa não compilará. Descomente o código abaixo para ver o erro:"
   ],
   "metadata": {
    "collapsed": false
   }
  },
  {
   "cell_type": "code",
   "outputs": [],
   "source": [
    "val numeros3 = listOf(1, 2, 3, 4, 5)\n",
    "//numeros3.add(6)"
   ],
   "metadata": {
    "collapsed": false,
    "ExecuteTime": {
     "end_time": "2024-03-11T21:57:36.339749600Z",
     "start_time": "2024-03-11T21:57:35.838091Z"
    }
   },
   "execution_count": 75
  },
  {
   "cell_type": "markdown",
   "source": [],
   "metadata": {
    "collapsed": false
   }
  },
  {
   "cell_type": "markdown",
   "source": [
    "Para adicionar algo na lista imutável precisa usar o metodo 'plus' ou '+',esse metodo precisa ser usado numa nova variavel criada e chamando a lista imutável,no exemplo abaixo estamos adicionando apenas um número: "
   ],
   "metadata": {
    "collapsed": false
   }
  },
  {
   "cell_type": "code",
   "execution_count": 76,
   "outputs": [
    {
     "name": "stdout",
     "output_type": "stream",
     "text": [
      "[1, 2, 3, 4, 5, 6]\r\n"
     ]
    }
   ],
   "source": [
    "    val numeros= listOf(1,2,3,4,5)\n",
    "    val novoNumeros= numeros.plus(6)\n",
    "\n",
    "    println(novoNumeros)\n"
   ],
   "metadata": {
    "collapsed": false,
    "ExecuteTime": {
     "end_time": "2024-03-11T21:57:36.460428100Z",
     "start_time": "2024-03-11T21:57:35.915883800Z"
    }
   }
  },
  {
   "cell_type": "markdown",
   "source": [],
   "metadata": {
    "collapsed": false
   }
  },
  {
   "cell_type": "markdown",
   "source": [
    "Nesse exemplo abaixo estamos usando o 'plus' para adicionar uma nova lista imutável,nenhuma das duas esta sendo alterada,mas sim criando uma nova lista com o valor de ambas: "
   ],
   "metadata": {
    "collapsed": false
   }
  },
  {
   "cell_type": "code",
   "execution_count": 77,
   "outputs": [
    {
     "name": "stdout",
     "output_type": "stream",
     "text": [
      "[Seg, Ter, Qua, Qui, Sex, Sab, Dom]\r\n"
     ]
    }
   ],
   "source": [
    "    val diasUteis= listOf(\"Seg\",\"Ter\",\"Qua\",\"Qui\",\"Sex\")\n",
    "    val fimDeSemana= listOf(\"Sab\",\"Dom\")\n",
    "    val semana= diasUteis.plus(fimDeSemana)\n",
    "    \n",
    "    println(semana)\n"
   ],
   "metadata": {
    "collapsed": false,
    "ExecuteTime": {
     "end_time": "2024-03-11T21:57:36.461424700Z",
     "start_time": "2024-03-11T21:57:35.999659Z"
    }
   }
  },
  {
   "cell_type": "markdown",
   "source": [],
   "metadata": {
    "collapsed": false
   }
  },
  {
   "cell_type": "markdown",
   "source": [
    "No exemplo abaixo usando o '+' estamos adicionando uma letra: "
   ],
   "metadata": {
    "collapsed": false
   }
  },
  {
   "cell_type": "code",
   "execution_count": 78,
   "outputs": [
    {
     "name": "stdout",
     "output_type": "stream",
     "text": [
      "[a, b, c, d, e]\r\n"
     ]
    }
   ],
   "source": [
    "    // Usando \"+\"\n",
    "    val letras= listOf(\"a\",\"b\",\"c\",\"d\")\n",
    "    val novaLetras= letras + \"e\"\n",
    "    \n",
    "    println(novaLetras)\n"
   ],
   "metadata": {
    "collapsed": false,
    "ExecuteTime": {
     "end_time": "2024-03-11T21:57:36.474389900Z",
     "start_time": "2024-03-11T21:57:36.065482800Z"
    }
   }
  },
  {
   "cell_type": "markdown",
   "source": [],
   "metadata": {
    "collapsed": false
   }
  },
  {
   "cell_type": "markdown",
   "source": [
    "Aqui estamos juntando listas imutáveis novamente,porem dessa vez usa o '+': "
   ],
   "metadata": {
    "collapsed": false
   }
  },
  {
   "cell_type": "code",
   "execution_count": 79,
   "outputs": [
    {
     "name": "stdout",
     "output_type": "stream",
     "text": [
      "[azul, vermelho, amarelo, verde, laranja, roxo]\r\n"
     ]
    }
   ],
   "source": [
    "    // Juntando listas imutaveis\n",
    "    val coresPrimarias=listOf(\"azul\",\"vermelho\",\"amarelo\")\n",
    "    val coresSecundarias=listOf(\"verde\",\"laranja\",\"roxo\")\n",
    "    val cores= coresPrimarias + coresSecundarias\n",
    "    \n",
    "    println(cores)"
   ],
   "metadata": {
    "collapsed": false,
    "ExecuteTime": {
     "end_time": "2024-03-11T21:57:36.503313300Z",
     "start_time": "2024-03-11T21:57:36.119339600Z"
    }
   }
  },
  {
   "cell_type": "markdown",
   "source": [
    "Para criar uma lista mutável, usamos a função **mutableListOf**:"
   ],
   "metadata": {
    "collapsed": false
   }
  },
  {
   "cell_type": "code",
   "outputs": [
    {
     "name": "stdout",
     "output_type": "stream",
     "text": [
      "[1, 2, 3, 4, 5, 6]\r\n"
     ]
    }
   ],
   "source": [
    "val numeros6 = mutableListOf(1, 2, 3, 4, 5)\n",
    "numeros6.add(6)\n",
    "println(numeros6)"
   ],
   "metadata": {
    "collapsed": false,
    "ExecuteTime": {
     "end_time": "2024-03-11T21:57:36.665878200Z",
     "start_time": "2024-03-11T21:57:36.271931800Z"
    }
   },
   "execution_count": 80
  },
  {
   "cell_type": "markdown",
   "source": [
    "***\n",
    "## Operações com Coleções e Sequências em Kotlin\n",
    "\n",
    "Em Kotlin, podemos realizar várias operações em coleções e sequências para manipular conjuntos de dados de maneira eficiente e expressiva. Veremos algumas das operações mais utilizadas:\n",
    "\n",
    "### Filtragem\n",
    "A primeira operação que veremos é a **filtragem**, que nos permite selecionar elementos de uma coleção com base em determinados critérios."
   ],
   "metadata": {
    "collapsed": false
   }
  },
  {
   "cell_type": "code",
   "outputs": [
    {
     "name": "stdout",
     "output_type": "stream",
     "text": [
      "Números pares: [2, 4]\r\n"
     ]
    }
   ],
   "source": [
    "// Criando uma lista de números\n",
    "val numeros = listOf(1, 2, 3, 4, 5)\n",
    "\n",
    "// Filtrando apenas os números pares\n",
    "val numerosPares = numeros.filter { it % 2 == 0 }\n",
    "\n",
    "println(\"Números pares: $numerosPares\")\n"
   ],
   "metadata": {
    "collapsed": false,
    "ExecuteTime": {
     "end_time": "2024-03-11T21:57:36.711755900Z",
     "start_time": "2024-03-11T21:57:36.429509600Z"
    }
   },
   "execution_count": 81
  },
  {
   "cell_type": "markdown",
   "source": [
    "Neste código, utilizamos a função filter para selecionar apenas os números pares da lista."
   ],
   "metadata": {
    "collapsed": false
   }
  },
  {
   "cell_type": "markdown",
   "source": [
    "### Mapeamento\n",
    "A segunda operação é o **mapeamento**, que nos permite transformar cada elemento de uma coleção de acordo com uma determinada função."
   ],
   "metadata": {
    "collapsed": false
   }
  },
  {
   "cell_type": "code",
   "outputs": [
    {
     "name": "stdout",
     "output_type": "stream",
     "text": [
      "Quadrados dos números: [1, 4, 9, 16, 25]\r\n"
     ]
    }
   ],
   "source": [
    "val numeros = listOf(1, 2, 3, 4, 5)\n",
    "// Calculando o quadrado de cada número na lista\n",
    "val quadrados = numeros.map { it * it }\n",
    "\n",
    "println(\"Quadrados dos números: $quadrados\")"
   ],
   "metadata": {
    "collapsed": false,
    "ExecuteTime": {
     "end_time": "2024-03-11T21:57:36.789548100Z",
     "start_time": "2024-03-11T21:57:36.544203400Z"
    }
   },
   "execution_count": 82
  },
  {
   "cell_type": "markdown",
   "source": [
    "Aqui, utilizamos a função **map** para calcular o quadrado de cada número na lista."
   ],
   "metadata": {
    "collapsed": false
   }
  },
  {
   "cell_type": "markdown",
   "source": [
    "### Redução\n",
    "A terceira operação é a **redução**, que nos permite combinar todos os elementos de uma coleção em um único valor."
   ],
   "metadata": {
    "collapsed": false
   }
  },
  {
   "cell_type": "code",
   "outputs": [
    {
     "name": "stdout",
     "output_type": "stream",
     "text": [
      "Soma dos números: 15\r\n"
     ]
    }
   ],
   "source": [
    "val numeros = listOf(1, 2, 3, 4, 5)\n",
    "// Calculando a soma de todos os números na lista\n",
    "val soma = numeros.reduce { acc, num -> acc + num }\n",
    "\n",
    "println(\"Soma dos números: $soma\")"
   ],
   "metadata": {
    "collapsed": false,
    "ExecuteTime": {
     "end_time": "2024-03-11T21:57:36.922193800Z",
     "start_time": "2024-03-11T21:57:36.702779500Z"
    }
   },
   "execution_count": 83
  },
  {
   "cell_type": "markdown",
   "source": [
    "Neste trecho, utilizamos a função **reduce** para calcular a soma de todos os números na lista."
   ],
   "metadata": {
    "collapsed": false
   }
  },
  {
   "cell_type": "markdown",
   "source": [
    "### Verificação\n",
    "Por fim, temos a operação de **verificação**, que nos permite verificar se algum elemento da coleção satisfaz determinada condição."
   ],
   "metadata": {
    "collapsed": false
   }
  },
  {
   "cell_type": "code",
   "outputs": [
    {
     "name": "stdout",
     "output_type": "stream",
     "text": [
      "Tem algum número maior que cinco? true\r\n"
     ]
    }
   ],
   "source": [
    "val numeros = listOf(1, 2, 3, 4, 5, 6)\n",
    "// Verificando se há algum número maior que cinco na lista\n",
    "val temNumeroMaiorQueCinco = numeros.any { it > 5 }\n",
    "\n",
    "println(\"Tem algum número maior que cinco? $temNumeroMaiorQueCinco\")\n"
   ],
   "metadata": {
    "collapsed": false,
    "ExecuteTime": {
     "end_time": "2024-03-11T21:57:37.036886500Z",
     "start_time": "2024-03-11T21:57:36.932167400Z"
    }
   },
   "execution_count": 84
  },
  {
   "cell_type": "markdown",
   "source": [
    "Aqui, utilizamos a função **any** para verificar se há algum número maior que cinco na lista."
   ],
   "metadata": {
    "collapsed": false
   }
  },
  {
   "cell_type": "markdown",
   "source": [
    "Essas são algumas das operações mais comuns que podemos realizar em coleções e sequências em Kotlin. Elas nos permitem manipular conjuntos de dados de forma eficiente e expressiva."
   ],
   "metadata": {
    "collapsed": false
   }
  },
  {
   "cell_type": "markdown",
   "source": [
    "***\n",
    "## Programação funcional em coleções\n",
    "A programação funcional em coleções oferece uma abordagem mais declarativa e expressiva para manipular conjuntos de dados. "
   ],
   "metadata": {
    "collapsed": false
   }
  },
  {
   "cell_type": "code",
   "outputs": [],
   "source": [
    "data class Produto(val nome: String, val preco: Double)\n",
    "        val produtos = listOf(\n",
    "            Produto(\"Feijão\", 10.50),\n",
    "            Produto(\"Arroz\", 8.0),\n",
    "            Produto(\"Macarrão\", 2.50),\n",
    "            Produto(\"Sal\", 3.0),\n",
    "            Produto(\"Sal Marinho\", 15.0)\n",
    "        )\n"
   ],
   "metadata": {
    "collapsed": false,
    "ExecuteTime": {
     "end_time": "2024-03-11T21:57:37.226380400Z",
     "start_time": "2024-03-11T21:57:37.066807100Z"
    }
   },
   "execution_count": 85
  },
  {
   "cell_type": "code",
   "execution_count": 86,
   "outputs": [],
   "source": [
    "// 1. Filtrar produtos com preço superior a R$ 5,00. -> filter\n",
    "        val produtosCaros = produtos.filter { it.preco > 5.0 }\n",
    "        \n",
    "// 1 Produtos que custam mais de: R$5,00: \n",
    "// Feijão, Preço: R$10.5, \n",
    "// Arroz, Preço : R$8.0, \n",
    "// Sal Marinho, Preço: R$15.0 "
   ],
   "metadata": {
    "collapsed": false,
    "ExecuteTime": {
     "end_time": "2024-03-11T21:57:37.307164800Z",
     "start_time": "2024-03-11T21:57:37.241341300Z"
    }
   }
  },
  {
   "cell_type": "code",
   "execution_count": 87,
   "outputs": [],
   "source": [
    "// 2. Calcular o dobro do preço para cada produto usando -> map\n",
    "        val precosDobrados = produtos.map { it.copy(preco = it.preco * 2) }\n",
    "        \n",
    "// 2 Preços dobrados: \n",
    "// Feijão, Preço: R$21 .0, \n",
    "// Arroz, Preço: R$16.0, \n",
    "// Macarrão, Preço: R$5.0, \n",
    "// Sal, Preço: R$6.0, \n",
    "// Sal Marinho, Preço: R$30.0"
   ],
   "metadata": {
    "collapsed": false,
    "ExecuteTime": {
     "end_time": "2024-03-11T21:57:37.370994800Z",
     "start_time": "2024-03-11T21:57:37.312151400Z"
    }
   }
  },
  {
   "cell_type": "code",
   "execution_count": 88,
   "outputs": [],
   "source": [
    "// 3. Calcular o preço total dos produtos usando -> reduce\n",
    "        val custoTotal = produtos.map { it.preco }.reduce { acc, preco -> acc + preco }\n",
    "        \n",
    "// 3 Custo total dos produtos: R$39.0 "
   ],
   "metadata": {
    "collapsed": false,
    "ExecuteTime": {
     "end_time": "2024-03-11T21:57:37.437815300Z",
     "start_time": "2024-03-11T21:57:37.370994800Z"
    }
   }
  },
  {
   "cell_type": "code",
   "execution_count": 89,
   "outputs": [],
   "source": [
    "// 4. Calcular o preço total apenas dos produtos Sal e Sal Marinho usando -> reduce. Outro exemplo.\n",
    "        val custoSalMarinho = produtos\n",
    "            .filter { it.nome == \"Sal\" || it.nome == \"Sal Marinho\" }\n",
    "            .map { it.preco }\n",
    "            .reduce { acc, preco -> acc + preco }\n",
    "            \n",
    "// 4 Custo total do Sal e Sal Marinho: R$ 18.0"
   ],
   "metadata": {
    "collapsed": false,
    "ExecuteTime": {
     "end_time": "2024-03-11T21:57:37.539544100Z",
     "start_time": "2024-03-11T21:57:37.439810800Z"
    }
   }
  },
  {
   "cell_type": "markdown",
   "source": [],
   "metadata": {
    "collapsed": false
   }
  },
  {
   "cell_type": "markdown",
   "source": [
    "***\n",
    "## Coleção Mutável\n",
    "Uma coleção **mutável**, em termos simples, é uma estrutura de dados que pode ser alterada após sua criação. "
   ],
   "metadata": {
    "collapsed": false
   }
  },
  {
   "cell_type": "markdown",
   "source": [
    "### Modificando uma coleção mutável\n",
    "Este código inicializa uma **coleção mutável** de cadeiras do curso P5 e modifica a coleção adicionando a cadeira \"CE\" e removendo a cadeira \"PE\". Em seguida, imprime a coleção original e a coleção modificada, mostrando as alterações feitas."
   ],
   "metadata": {
    "collapsed": false
   }
  },
  {
   "cell_type": "code",
   "execution_count": 90,
   "outputs": [
    {
     "name": "stdout",
     "output_type": "stream",
     "text": [
      "Cadeiras de P5: [PDM, PWEB2, GPS, PPS, PE]\r\n",
      "Cadeira modificada: [PDM, PWEB2, GPS, PPS, CE]\r\n"
     ]
    }
   ],
   "source": [
    "\n",
    "    var mutableCollection: MutableCollection<String> = mutableListOf(\"PDM\", \"PWEB2\", \"GPS\", \"PPS\", \"PE\")\n",
    "    \n",
    "    println(\"Cadeiras de P5: $mutableCollection\")\n",
    "    \n",
    "    mutableCollection.add(\"CE\")\n",
    "    mutableCollection.remove(\"PE\")\n",
    "    \n",
    "    println(\"Cadeira modificada: $mutableCollection\")\n",
    "\n"
   ],
   "metadata": {
    "collapsed": false,
    "ExecuteTime": {
     "end_time": "2024-03-11T21:57:37.665208Z",
     "start_time": "2024-03-11T21:57:37.538546900Z"
    }
   }
  },
  {
   "cell_type": "markdown",
   "source": [
    "### Modificando uma lista mutável\n",
    "Este código inicializa uma **lista mutável** de frutas e modifica o segundo elemento da lista de \"banana\" para \"kiwi\". Em seguida, imprime a lista original e a lista modificada, mostrando a alteração feita."
   ],
   "metadata": {
    "collapsed": false
   }
  },
  {
   "cell_type": "code",
   "execution_count": 91,
   "outputs": [
    {
     "name": "stdout",
     "output_type": "stream",
     "text": [
      "Lista original: [maça, banana, laranja]\r\n",
      "Lista foi mudada: [maça, kiwi, laranja]\r\n"
     ]
    }
   ],
   "source": [
    "\n",
    "    val mutableList = mutableListOf(\"maça\", \"banana\", \"laranja\")\n",
    "    \n",
    "    println(\"Lista original: $mutableList\")\n",
    "    \n",
    "    mutableList[1] = \"kiwi\" // mudar o segundo elemento da lista\n",
    "    \n",
    "    println(\"Lista foi mudada: $mutableList\")\n"
   ],
   "metadata": {
    "collapsed": false,
    "ExecuteTime": {
     "end_time": "2024-03-11T21:57:37.767933800Z",
     "start_time": "2024-03-11T21:57:37.664210600Z"
    }
   }
  },
  {
   "cell_type": "markdown",
   "source": [
    "### Modificando um mapa mutável\n",
    "Este código inicializa um **mapa mutável** com pares chave-valor e, em seguida, transforma todos os valores do mapa em seus quadrados. O resultado é atribuído novamente ao mapa mutável, que é então impresso na tela, mostrando os valores originais substituídos por seus quadrados."
   ],
   "metadata": {
    "collapsed": false
   }
  },
  {
   "cell_type": "code",
   "execution_count": 92,
   "outputs": [
    {
     "name": "stdout",
     "output_type": "stream",
     "text": [
      "listas de numero: {1=1, 2=2, 3=3, 4=4}\r\n",
      "quadrado foi adicionado!: {1=1, 2=4, 3=9, 4=16}\r\n"
     ]
    }
   ],
   "source": [
    "\n",
    "    var mutableMap = mutableMapOf(\"1\" to 1, \"2\" to 2, \"3\" to 3, \"4\" to 4)\n",
    "    \n",
    "    println(\"listas de numero: $mutableMap\")\n",
    "    \n",
    "    // Transformando todos os valores do mapa em seus quadrados\n",
    "    mutableMap = mutableMap.mapValues { (_, valor) -> valor * valor }.toMutableMap()\n",
    "    \n",
    "    println(\"quadrado foi adicionado!: $mutableMap\")\n"
   ],
   "metadata": {
    "collapsed": false,
    "ExecuteTime": {
     "end_time": "2024-03-11T21:57:37.934487700Z",
     "start_time": "2024-03-11T21:57:37.781896300Z"
    }
   }
  },
  {
   "cell_type": "markdown",
   "source": [],
   "metadata": {
    "collapsed": false
   }
  },
  {
   "cell_type": "markdown",
   "source": [
    "## Coleção Imutável\n",
    "Uma coleção **mutável**, em termos simples, é uma estrutura de dados que nao pode ser alterada após sua criação. \n",
    "\n"
   ],
   "metadata": {
    "collapsed": false
   }
  },
  {
   "cell_type": "markdown",
   "source": [
    "### Removendo um elemento de um mapa imutável\n",
    "Este código cria um novo **mapa imutável** a partir de um mapa imutável original, removendo a entrada associada à chave \"Maçã\". Em seguida, itera sobre o novo mapa imutável resultante da remoção e imprime cada par chave-valor na tela."
   ],
   "metadata": {
    "collapsed": false
   }
  },
  {
   "cell_type": "code",
   "execution_count": 93,
   "outputs": [
    {
     "name": "stdout",
     "output_type": "stream",
     "text": [
      "Fruta: Banana, Cor: Amarela\r\n",
      "Fruta: Abacaxi, Cor: Amarelo\r\n"
     ]
    }
   ],
   "source": [
    "// Criando um mapa imutável\n",
    "    val mapaImutavel = mapOf(\n",
    "        \"Maçã\" to \"Vermelha\",\n",
    "        \"Banana\" to \"Amarela\",\n",
    "        \"Abacaxi\" to \"Amarelo\"\n",
    "    )\n",
    "\n",
    "    val novoMapaImutavel = mapaImutavel - \"Maçã\"\n",
    "    for ((fruta, cor) in novoMapaImutavel) {\n",
    "        println(\"Fruta: $fruta, Cor: $cor\")\n",
    "    }\n"
   ],
   "metadata": {
    "collapsed": false,
    "ExecuteTime": {
     "end_time": "2024-03-11T21:57:38.052173500Z",
     "start_time": "2024-03-11T21:57:37.935485300Z"
    }
   }
  },
  {
   "cell_type": "markdown",
   "source": [
    "### Criando um conjunto imutável e iterando sobre os elementos\n",
    "Este código cria um **conjunto imutável** contendo algumas frutas. Em seguida, tenta adicionar e remover elementos do conjunto, o que resultará em erros, pois conjuntos imutáveis não permitem operações de adição ou remoção. Por fim, o código itera sobre os elementos do conjunto e os imprime na tela."
   ],
   "metadata": {
    "collapsed": false
   }
  },
  {
   "cell_type": "code",
   "execution_count": 94,
   "outputs": [
    {
     "name": "stdout",
     "output_type": "stream",
     "text": [
      "Maçã\r\n",
      "Banana\r\n",
      "Laranja\r\n"
     ]
    }
   ],
   "source": [
    "// Criando um conjunto imutável\n",
    "    val conjuntoImutavel = setOf(\"Maçã\", \"Banana\", \"Laranja\")\n",
    "\n",
    "    // Tentativa de adicionar um elemento (não é possível)\n",
    "    // conjuntoImutavel.add(\"Pêra\") // Isso resultará em erro\n",
    "\n",
    "    // Tentativa de remover um elemento (não é possível)\n",
    "    // conjuntoImutavel.remove(\"Banana\") // Isso resultará em erro\n",
    "\n",
    "    // Iterando sobre os elementos\n",
    "    for (fruta in conjuntoImutavel) {\n",
    "        println(fruta)\n",
    "    }\n"
   ],
   "metadata": {
    "collapsed": false,
    "ExecuteTime": {
     "end_time": "2024-03-11T21:57:38.159885400Z",
     "start_time": "2024-03-11T21:57:38.052173500Z"
    }
   }
  },
  {
   "cell_type": "markdown",
   "source": [
    "### Criando uma classe de dados Pessoa e uma lista imutável de pessoas\n",
    "Este código define uma **classe de dados** Pessoa com propriedades nome e cpf, e em seguida cria uma lista imutável de pessoas usando essa classe de dados. Depois, itera sobre as pessoas na lista e imprime seus dados na tela. Por fim, tenta modificar o CPF de uma pessoa na lista, o que resultará em um erro, pois listas imutáveis não permitem modificações em seus elementos."
   ],
   "metadata": {
    "collapsed": false
   }
  },
  {
   "cell_type": "code",
   "execution_count": 95,
   "outputs": [
    {
     "name": "stdout",
     "output_type": "stream",
     "text": [
      "Nome: João, CPF: 123.456.789-00\r\n",
      "Nome: Maria, CPF: 987.654.321-00\r\n",
      "Nome: Pedro, CPF: 111.222.333-44\r\n"
     ]
    }
   ],
   "source": [
    "data class Pessoa(val nome: String, val cpf: String)\n",
    "    // Criando uma lista imutável de pessoas\n",
    "    val listaDePessoas = listOf(\n",
    "        Pessoa(\"João\", \"123.456.789-00\"),\n",
    "        Pessoa(\"Maria\", \"987.654.321-00\"),\n",
    "        Pessoa(\"Pedro\", \"111.222.333-44\")\n",
    "    )\n",
    "\n",
    "    // Iterando sobre as pessoas na lista e imprimindo seus dados\n",
    "    for (pessoa in listaDePessoas) {\n",
    "        println(\"Nome: ${pessoa.nome}, CPF: ${pessoa.cpf}\")\n",
    "    }\n",
    "\n",
    "    // Tentativa de modificar o CPF de uma pessoa (não é possível em uma lista imutável)\n",
    "    // listaDePessoas[0].cpf = \"000.111.222-33\" // Isso resultará em um erro\n",
    "\n"
   ],
   "metadata": {
    "collapsed": false,
    "ExecuteTime": {
     "end_time": "2024-03-11T21:57:38.268595Z",
     "start_time": "2024-03-11T21:57:38.125976Z"
    }
   }
  },
  {
   "cell_type": "markdown",
   "source": [
    "### Criando uma classe de dados Item e uma lista imutável de itens\n",
    "Este código define uma **classe de dados** Item com propriedades id e nome, e em seguida cria uma lista imutável de itens usando essa classe de dados. Depois, itera sobre os itens na lista e imprime seus dados na tela. Por fim, tenta modificar um dos itens na lista, o que resultará em um erro, pois listas imutáveis não permitem modificações em seus elementos."
   ],
   "metadata": {
    "collapsed": false
   }
  },
  {
   "cell_type": "code",
   "execution_count": 96,
   "outputs": [
    {
     "name": "stdout",
     "output_type": "stream",
     "text": [
      "ID: 1, Nome: Item A\r\n",
      "ID: 2, Nome: Item B\r\n",
      "ID: 3, Nome: Item C\r\n"
     ]
    }
   ],
   "source": [
    "data class Item(val id: Int, val nome: String)\n",
    "    // Criando uma lista imutável de objetos do tipo Item\n",
    "    val listaDeItens = listOf(\n",
    "        Item(1, \"Item A\"),\n",
    "        Item(2, \"Item B\"),\n",
    "        Item(3, \"Item C\")\n",
    "    )\n",
    "\n",
    "    // Iterando sobre os itens na lista e imprimindo seus dados\n",
    "    for (item in listaDeItens) {\n",
    "        println(\"ID: ${item.id}, Nome: ${item.nome}\")\n",
    "    }\n",
    "\n",
    "    // Tentativa de modificar um dos itens na lista (não é possível em uma lista imutável)\n",
    "    // listaDeItens[0] = Item(1, \"Novo Item\") // Isso resultará em um erro\n"
   ],
   "metadata": {
    "collapsed": false,
    "ExecuteTime": {
     "end_time": "2024-03-11T21:57:38.366334200Z",
     "start_time": "2024-03-11T21:57:38.259618900Z"
    }
   }
  }
 ],
 "metadata": {
  "kernelspec": {
   "display_name": "Kotlin",
   "language": "kotlin",
   "name": "kotlin"
  },
  "language_info": {
   "name": "kotlin",
   "version": "1.9.0",
   "mimetype": "text/x-kotlin",
   "file_extension": ".kt",
   "pygments_lexer": "kotlin",
   "codemirror_mode": "text/x-kotlin",
   "nbconvert_exporter": ""
  },
  "ktnbPluginMetadata": {
   "projectDependencies": [
    "introducao-kotlin"
   ]
  }
 },
 "nbformat": 4,
 "nbformat_minor": 0
}
