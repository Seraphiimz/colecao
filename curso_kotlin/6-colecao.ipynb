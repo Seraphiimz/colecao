{
 "cells": [
  {
   "cell_type": "markdown",
   "source": [
    "![Logo do Kotlin](https://upload.wikimedia.org/wikipedia/commons/thumb/d/d4/Kotlin_logo.svg/2560px-Kotlin_logo.svg.png)\n",
    "\n"
   ],
   "metadata": {
    "collapsed": false
   }
  },
  {
   "cell_type": "markdown",
   "source": [
    "## Coleções\n",
    "Kotlin tem várias coleções, como **Listas**, **Array**, **Conjuntos**  e **Map**. Vamos ver um exemplo de cada uma:\n",
    "\n",
    "//gabriel"
   ],
   "metadata": {
    "collapsed": false
   }
  },
  {
   "cell_type": "code",
   "outputs": [
    {
     "name": "stdout",
     "output_type": "stream",
     "text": [
      "O último elemento da lista é 5\r\n"
     ]
    }
   ],
   "source": [
    "val numeros = listOf(1, 2, 3, 4, 5)\n",
    "println(\"O último elemento da lista é ${numeros[numeros.size - 1]}\")"
   ],
   "metadata": {
    "collapsed": false,
    "ExecuteTime": {
     "end_time": "2024-03-09T13:00:59.245681900Z",
     "start_time": "2024-03-09T13:00:59.006322700Z"
    }
   },
   "execution_count": 20
  },
  {
   "cell_type": "markdown",
   "source": [
    "A função **listOf** cria uma lista imutável. Ou seja, não há o método **add* para acrescentar novos elementos. O tipo dessa lista é **List<Int>**. Você não precisa especificar o tipo, já que o Kotlin tem inferência de tipos. Mas, se quiser especificar, pode fazer da seguinte forma:"
   ],
   "metadata": {
    "collapsed": false
   }
  },
  {
   "cell_type": "code",
   "outputs": [],
   "source": [
    "val numeros2: List<Int> = listOf(1, 2, 3, 4, 5)"
   ],
   "metadata": {
    "collapsed": false,
    "ExecuteTime": {
     "end_time": "2024-03-09T13:00:59.281587100Z",
     "start_time": "2024-03-09T13:00:59.109047400Z"
    }
   },
   "execution_count": 21
  },
  {
   "cell_type": "markdown",
   "source": [
    "Se tentarmos acrescentar um novo elemento na lista, o programa não compilará. Descomente o código abaixo para ver o erro:"
   ],
   "metadata": {
    "collapsed": false
   }
  },
  {
   "cell_type": "code",
   "outputs": [],
   "source": [
    "val numeros3 = listOf(1, 2, 3, 4, 5)\n",
    "//numeros3.add(6)"
   ],
   "metadata": {
    "collapsed": false,
    "ExecuteTime": {
     "end_time": "2024-03-09T13:00:59.347410400Z",
     "start_time": "2024-03-09T13:00:59.261640Z"
    }
   },
   "execution_count": 22
  },
  {
   "cell_type": "markdown",
   "source": [
    "Vamos mostrar uma lista Imutável:"
   ],
   "metadata": {
    "collapsed": false
   }
  },
  {
   "cell_type": "code",
   "outputs": [],
   "source": [
    "fun main(args: Array<String>) {\n",
    "    var genericList = listOf(\"Alunos de PDM\", 39, 3.56, 'a')\n",
    "    var specificList = listOf<String>(\"Marcos\", \"Vamberto\", \"Raquel\", \"João Victor\", \"Gabriel\")\n",
    "    println(\"Imprimindo $genericList\")\n",
    "    println(\"Imprimindo $specificList\")\n",
    "}\n"
   ],
   "metadata": {
    "collapsed": false,
    "ExecuteTime": {
     "end_time": "2024-03-09T13:00:59.443155500Z",
     "start_time": "2024-03-09T13:00:59.347410400Z"
    }
   },
   "execution_count": 23
  },
  {
   "cell_type": "markdown",
   "source": [
    "Para criar uma lista mutável, usamos a função **mutableListOf**:"
   ],
   "metadata": {
    "collapsed": false
   }
  },
  {
   "cell_type": "code",
   "outputs": [
    {
     "name": "stdout",
     "output_type": "stream",
     "text": [
      "[1, 2, 3, 4, 5, 6]\r\n"
     ]
    }
   ],
   "source": [
    "val numeros6 = mutableListOf(1, 2, 3, 4, 5)\n",
    "numeros6.add(6)\n",
    "println(numeros6)"
   ],
   "metadata": {
    "collapsed": false,
    "ExecuteTime": {
     "end_time": "2024-03-09T13:00:59.550866100Z",
     "start_time": "2024-03-09T13:00:59.454124800Z"
    }
   },
   "execution_count": 24
  },
  {
   "cell_type": "markdown",
   "source": [
    "## Condicionais"
   ],
   "metadata": {
    "collapsed": false
   }
  },
  {
   "cell_type": "code",
   "outputs": [
    {
     "name": "stdout",
     "output_type": "stream",
     "text": [
      "Menor de idade\r\n"
     ]
    }
   ],
   "source": [
    "var ehMenorIdade = true\n",
    "if (ehMenorIdade) {\n",
    "    println(\"Menor de idade\")\n",
    "} else {\n",
    "    println(\"Maior de idade\")\n",
    "}"
   ],
   "metadata": {
    "collapsed": false,
    "ExecuteTime": {
     "end_time": "2024-03-09T13:00:59.797207500Z",
     "start_time": "2024-03-09T13:00:59.546877100Z"
    }
   },
   "execution_count": 25
  },
  {
   "cell_type": "markdown",
   "source": [
    "Podemos usar o **if** como uma expressão, ou seja, podemos atribuir o resultado do **if** a uma variável:"
   ],
   "metadata": {
    "collapsed": false
   }
  },
  {
   "cell_type": "code",
   "outputs": [
    {
     "name": "stdout",
     "output_type": "stream",
     "text": [
      "Menor de idade\r\n"
     ]
    }
   ],
   "source": [
    "val idade = 17\n",
    "val resultado = if (idade < 18) \"Menor de idade\" else \"Maior de idade\"\n",
    "println(resultado)"
   ],
   "metadata": {
    "collapsed": false,
    "ExecuteTime": {
     "end_time": "2024-03-09T13:00:59.917884600Z",
     "start_time": "2024-03-09T13:00:59.814162500Z"
    }
   },
   "execution_count": 26
  },
  {
   "cell_type": "markdown",
   "source": [
    "Também podemos fazer uma função de forma mais simples usando esse padrão do if:"
   ],
   "metadata": {
    "collapsed": false
   }
  },
  {
   "cell_type": "code",
   "outputs": [
    {
     "name": "stdout",
     "output_type": "stream",
     "text": [
      "Menor de idade\r\n",
      "Maior de idade\r\n"
     ]
    }
   ],
   "source": [
    "fun textoMenorIdade(idade: Int) = if (idade < 18) \"Menor de idade\" else \"Maior de idade\"\n",
    "println(textoMenorIdade(17))\n",
    "println(textoMenorIdade(20))"
   ],
   "metadata": {
    "collapsed": false,
    "ExecuteTime": {
     "end_time": "2024-03-09T13:01:00.061500700Z",
     "start_time": "2024-03-09T13:00:59.943816500Z"
    }
   },
   "execution_count": 27
  },
  {
   "cell_type": "markdown",
   "source": [
    "## Laços\n",
    "Os laços em Kotlin são **for** e **while**. Vamos ver um exemplo de cada um:"
   ],
   "metadata": {
    "collapsed": false
   }
  },
  {
   "cell_type": "code",
   "outputs": [
    {
     "name": "stdout",
     "output_type": "stream",
     "text": [
      " 1 2 3 4 5 6 7 8 9 10\n",
      "until\r\n",
      " 1 2 3 4 5 6 7 8 9\n",
      "downto\r\n",
      " 10 9 8 7 6 5 4 3 2 1\n",
      "step\r\n",
      " 1 3 5 7 9"
     ]
    }
   ],
   "source": [
    "// for de 1 a 10\n",
    "for (i in 1..10) {\n",
    "    print(\" $i\")\n",
    "}\n",
    "println(\"\\nuntil\")\n",
    "\n",
    "// for de 1 até 9 (exclui-se o último valor)\n",
    "for (i in 1 until 10) {\n",
    "    print(\" $i\")\n",
    "}\n",
    "\n",
    "println(\"\\ndownto\")\n",
    "// for de 10 até 1\n",
    "for (i in 10 downTo 1) {\n",
    "    print(\" $i\")\n",
    "}\n",
    "\n",
    "println(\"\\nstep\")\n",
    "// for de 1 a 10, pulando de 2 em 2\n",
    "for (i in 1..10 step 2) {\n",
    "    print(\" $i\")\n",
    "}"
   ],
   "metadata": {
    "collapsed": false,
    "ExecuteTime": {
     "end_time": "2024-03-09T13:01:00.267948800Z",
     "start_time": "2024-03-09T13:01:00.072471500Z"
    }
   },
   "execution_count": 28
  },
  {
   "cell_type": "markdown",
   "source": [
    "O **for** em Kotlin é bem poderoso, e pode ser usado para percorrer qualquer coisa que seja iterável. Por exemplo, podemos percorrer uma lista:"
   ],
   "metadata": {
    "collapsed": false
   }
  },
  {
   "cell_type": "code",
   "outputs": [
    {
     "name": "stdout",
     "output_type": "stream",
     "text": [
      " 1 2 3 4 5"
     ]
    }
   ],
   "source": [
    "val lista = listOf(1, 2, 3, 4, 5)\n",
    "for (i in lista) {\n",
    "    print(\" $i\")\n",
    "}"
   ],
   "metadata": {
    "collapsed": false,
    "ExecuteTime": {
     "end_time": "2024-03-09T13:01:00.528253400Z",
     "start_time": "2024-03-09T13:01:00.278919800Z"
    }
   },
   "execution_count": 29
  },
  {
   "cell_type": "markdown",
   "source": [
    "Também podemos percorrer uma lista usando o forEach:"
   ],
   "metadata": {
    "collapsed": false
   }
  },
  {
   "cell_type": "code",
   "outputs": [
    {
     "name": "stdout",
     "output_type": "stream",
     "text": [
      "12345"
     ]
    }
   ],
   "source": [
    "val lista2 = listOf(1, 2, 3, 4, 5)\n",
    "lista2.forEach { print(it) }"
   ],
   "metadata": {
    "collapsed": false,
    "ExecuteTime": {
     "end_time": "2024-03-09T13:01:00.661896300Z",
     "start_time": "2024-03-09T13:01:00.530248Z"
    }
   },
   "execution_count": 30
  },
  {
   "cell_type": "markdown",
   "source": [
    "Perceba que o forEach recebe um lambda como parâmetro. O lambda é uma função anônima, ou seja, uma função sem nome. No caso acima, o lambda recebe um parâmetro, que é o elemento da lista, e imprime esse elemento. Se o lambda tiver apenas um parâmetro, podemos omitir o nome do parâmetro e usar **it**. Isso é o mesmo que o código abaixo:"
   ],
   "metadata": {
    "collapsed": false
   }
  },
  {
   "cell_type": "code",
   "outputs": [
    {
     "name": "stdout",
     "output_type": "stream",
     "text": [
      "12345"
     ]
    }
   ],
   "source": [
    "val lista3 = listOf(1, 2, 3, 4, 5)\n",
    "lista3.forEach { elemento -> print(elemento) }"
   ],
   "metadata": {
    "collapsed": false,
    "ExecuteTime": {
     "end_time": "2024-03-09T13:01:00.800524800Z",
     "start_time": "2024-03-09T13:01:00.663890700Z"
    }
   },
   "execution_count": 31
  },
  {
   "cell_type": "markdown",
   "source": [
    "O while é similar ao while de outras linguagens:"
   ],
   "metadata": {
    "collapsed": false
   }
  },
  {
   "cell_type": "code",
   "outputs": [
    {
     "name": "stdout",
     "output_type": "stream",
     "text": [
      " 0 1 2 3 4 5 6 7 8 9"
     ]
    }
   ],
   "source": [
    "var i = 0\n",
    "while (i < 10) {\n",
    "    print(\" $i\")\n",
    "    i++\n",
    "}"
   ],
   "metadata": {
    "collapsed": false,
    "ExecuteTime": {
     "end_time": "2024-03-09T13:01:01.074791900Z",
     "start_time": "2024-03-09T13:01:00.799527900Z"
    }
   },
   "execution_count": 32
  },
  {
   "cell_type": "markdown",
   "source": [
    "## Coleção Mutável\n",
    "Uma coleção **mutável**, em termos simples, é uma estrutura de dados que pode ser alterada após sua criação. "
   ],
   "metadata": {
    "collapsed": false
   }
  },
  {
   "cell_type": "code",
   "execution_count": 33,
   "outputs": [],
   "source": [
    "fun main() {\n",
    "    val mutableCollection: MutableCollection<String> = mutableListOf(\"PDM\", \"PWEB2\", \"GPS\", \"PPS\", \"PE\")\n",
    "    \n",
    "    println(\"Cadeiras de P5: $mutableCollection\")\n",
    "    \n",
    "    mutableCollection.add(\"CE\")\n",
    "    mutableCollection.remove(\"PE\")\n",
    "    \n",
    "    println(\"Cadeira modificada: $mutableCollection\")\n",
    "}\n"
   ],
   "metadata": {
    "collapsed": false,
    "ExecuteTime": {
     "end_time": "2024-03-09T13:01:01.345069200Z",
     "start_time": "2024-03-09T13:01:01.087757400Z"
    }
   }
  },
  {
   "cell_type": "code",
   "execution_count": 34,
   "outputs": [],
   "source": [
    "fun main() {\n",
    "    val mutableSet = mutableSetOf(\"Marcos\", \"Vamberto\", \"Raquel\", \"João Victor\", \"Gabriel\", \"aluno6\")\n",
    "    \n",
    "    println(\"Grupo 7: $mutableSet\")\n",
    "    \n",
    "    mutableSet.add(\"Marcos\") // Já existe a \"Marcos\" na conjunto\n",
    "    mutableSet.remove(\"aluno6\")\n",
    "    \n",
    "    println(\"Conjunto mudado: $mutableSet\")\n",
    "}"
   ],
   "metadata": {
    "collapsed": false,
    "ExecuteTime": {
     "end_time": "2024-03-09T13:01:01.496663900Z",
     "start_time": "2024-03-09T13:01:01.387954600Z"
    }
   }
  },
  {
   "cell_type": "code",
   "execution_count": 35,
   "outputs": [],
   "source": [
    "fun main() {\n",
    "    val mutableMap = mutableMapOf(\"PDM\" to 1, \"PWEB2\" to 2, \"GPS\" to 3, \"PPS\" to 4)\n",
    "    \n",
    "    println(\"Cadeira P5: $mutableMap\")\n",
    "    \n",
    "    mutableMap[\"CE\"] = 5\n",
    "    mutableMap.remove(\"PPS\")\n",
    "    \n",
    "    println(\"Cadeira P5 modificado: $mutableMap\")\n",
    "}"
   ],
   "metadata": {
    "collapsed": false,
    "ExecuteTime": {
     "end_time": "2024-03-09T13:01:01.748990100Z",
     "start_time": "2024-03-09T13:01:01.510626600Z"
    }
   }
  }
 ],
 "metadata": {
  "kernelspec": {
   "display_name": "Kotlin",
   "language": "kotlin",
   "name": "kotlin"
  },
  "language_info": {
   "name": "kotlin",
   "version": "1.9.0",
   "mimetype": "text/x-kotlin",
   "file_extension": ".kt",
   "pygments_lexer": "kotlin",
   "codemirror_mode": "text/x-kotlin",
   "nbconvert_exporter": ""
  },
  "ktnbPluginMetadata": {
   "projectDependencies": [
    "introducao-kotlin"
   ]
  }
 },
 "nbformat": 4,
 "nbformat_minor": 0
}
