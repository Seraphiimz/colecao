{
 "cells": [
  {
   "cell_type": "markdown",
   "source": [
    "![Logo do Kotlin](https://upload.wikimedia.org/wikipedia/commons/thumb/d/d4/Kotlin_logo.svg/2560px-Kotlin_logo.svg.png)\n",
    "\n"
   ],
   "metadata": {
    "collapsed": false
   }
  },
  {
   "cell_type": "markdown",
   "source": [
    "## Coleções\n",
    "Kotlin tem várias coleções, como **Listas**, **Array**, **Conjuntos**  e **Map**. Vamos ver um exemplo de cada uma:\n",
    "\n",
    "//gabriel"
   ],
   "metadata": {
    "collapsed": false
   }
  },
  {
   "cell_type": "code",
   "outputs": [
    {
     "name": "stdout",
     "output_type": "stream",
     "text": [
      "O último elemento da lista é 5\r\n"
     ]
    }
   ],
   "source": [
    "val numeros = listOf(1, 2, 3, 4, 5)\n",
    "println(\"O último elemento da lista é ${numeros[numeros.size - 1]}\")"
   ],
   "metadata": {
    "collapsed": false,
    "ExecuteTime": {
     "end_time": "2024-03-10T12:50:33.426121400Z",
     "start_time": "2024-03-10T12:50:33.060589300Z"
    }
   },
   "execution_count": 35
  },
  {
   "cell_type": "markdown",
   "source": [
    "A função **listOf** cria uma lista imutável. Ou seja, não há o método **add* para acrescentar novos elementos. O tipo dessa lista é **List<Int>**. Você não precisa especificar o tipo, já que o Kotlin tem inferência de tipos. Mas, se quiser especificar, pode fazer da seguinte forma:"
   ],
   "metadata": {
    "collapsed": false
   }
  },
  {
   "cell_type": "code",
   "outputs": [],
   "source": [
    "val numeros2: List<Int> = listOf(1, 2, 3, 4, 5)"
   ],
   "metadata": {
    "collapsed": false,
    "ExecuteTime": {
     "end_time": "2024-03-10T12:50:33.432104800Z",
     "start_time": "2024-03-10T12:50:33.230643900Z"
    }
   },
   "execution_count": 36
  },
  {
   "cell_type": "markdown",
   "source": [
    "Se tentarmos acrescentar um novo elemento na lista, o programa não compilará. Descomente o código abaixo para ver o erro:"
   ],
   "metadata": {
    "collapsed": false
   }
  },
  {
   "cell_type": "code",
   "outputs": [],
   "source": [
    "val numeros3 = listOf(1, 2, 3, 4, 5)\n",
    "//numeros3.add(6)"
   ],
   "metadata": {
    "collapsed": false,
    "ExecuteTime": {
     "end_time": "2024-03-10T12:50:33.585694400Z",
     "start_time": "2024-03-10T12:50:33.383235500Z"
    }
   },
   "execution_count": 37
  },
  {
   "cell_type": "markdown",
   "source": [
    "Vamos mostrar uma lista Imutável:"
   ],
   "metadata": {
    "collapsed": false
   }
  },
  {
   "cell_type": "code",
   "outputs": [],
   "source": [
    "fun main(args: Array<String>) {\n",
    "    var genericList = listOf(\"Alunos de PDM\", 39, 3.56, 'a')\n",
    "    var specificList = listOf<String>(\"Marcos\", \"Vamberto\", \"Raquel\", \"João Victor\", \"Gabriel\")\n",
    "    println(\"Imprimindo $genericList\")\n",
    "    println(\"Imprimindo $specificList\")\n",
    "}\n"
   ],
   "metadata": {
    "collapsed": false,
    "ExecuteTime": {
     "end_time": "2024-03-10T12:50:33.724324500Z",
     "start_time": "2024-03-10T12:50:33.590680900Z"
    }
   },
   "execution_count": 38
  },
  {
   "cell_type": "markdown",
   "source": [
    "Para criar uma lista mutável, usamos a função **mutableListOf**:"
   ],
   "metadata": {
    "collapsed": false
   }
  },
  {
   "cell_type": "code",
   "outputs": [
    {
     "name": "stdout",
     "output_type": "stream",
     "text": [
      "[1, 2, 3, 4, 5, 6]\r\n"
     ]
    }
   ],
   "source": [
    "val numeros6 = mutableListOf(1, 2, 3, 4, 5)\n",
    "numeros6.add(6)\n",
    "println(numeros6)"
   ],
   "metadata": {
    "collapsed": false,
    "ExecuteTime": {
     "end_time": "2024-03-10T12:50:33.831038200Z",
     "start_time": "2024-03-10T12:50:33.734297100Z"
    }
   },
   "execution_count": 39
  },
  {
   "cell_type": "markdown",
   "source": [
    "## Condicionais"
   ],
   "metadata": {
    "collapsed": false
   }
  },
  {
   "cell_type": "code",
   "outputs": [
    {
     "name": "stdout",
     "output_type": "stream",
     "text": [
      "Menor de idade\r\n"
     ]
    }
   ],
   "source": [
    "var ehMenorIdade = true\n",
    "if (ehMenorIdade) {\n",
    "    println(\"Menor de idade\")\n",
    "} else {\n",
    "    println(\"Maior de idade\")\n",
    "}"
   ],
   "metadata": {
    "collapsed": false,
    "ExecuteTime": {
     "end_time": "2024-03-10T12:50:33.939748600Z",
     "start_time": "2024-03-10T12:50:33.843007500Z"
    }
   },
   "execution_count": 40
  },
  {
   "cell_type": "markdown",
   "source": [
    "Podemos usar o **if** como uma expressão, ou seja, podemos atribuir o resultado do **if** a uma variável:"
   ],
   "metadata": {
    "collapsed": false
   }
  },
  {
   "cell_type": "code",
   "outputs": [
    {
     "name": "stdout",
     "output_type": "stream",
     "text": [
      "Menor de idade\r\n"
     ]
    }
   ],
   "source": [
    "val idade = 17\n",
    "val resultado = if (idade < 18) \"Menor de idade\" else \"Maior de idade\"\n",
    "println(resultado)"
   ],
   "metadata": {
    "collapsed": false,
    "ExecuteTime": {
     "end_time": "2024-03-10T12:50:34.071498800Z",
     "start_time": "2024-03-10T12:50:33.950718Z"
    }
   },
   "execution_count": 41
  },
  {
   "cell_type": "markdown",
   "source": [
    "Também podemos fazer uma função de forma mais simples usando esse padrão do if:"
   ],
   "metadata": {
    "collapsed": false
   }
  },
  {
   "cell_type": "code",
   "outputs": [
    {
     "name": "stdout",
     "output_type": "stream",
     "text": [
      "Menor de idade\r\n",
      "Maior de idade\r\n"
     ]
    }
   ],
   "source": [
    "fun textoMenorIdade(idade: Int) = if (idade < 18) \"Menor de idade\" else \"Maior de idade\"\n",
    "println(textoMenorIdade(17))\n",
    "println(textoMenorIdade(20))"
   ],
   "metadata": {
    "collapsed": false,
    "ExecuteTime": {
     "end_time": "2024-03-10T12:50:34.189883800Z",
     "start_time": "2024-03-10T12:50:34.074490800Z"
    }
   },
   "execution_count": 42
  },
  {
   "cell_type": "markdown",
   "source": [
    "## Laços\n",
    "Os laços em Kotlin são **for** e **while**. Vamos ver um exemplo de cada um:"
   ],
   "metadata": {
    "collapsed": false
   }
  },
  {
   "cell_type": "code",
   "outputs": [
    {
     "name": "stdout",
     "output_type": "stream",
     "text": [
      " 1 2 3 4 5 6 7 8 9 10\n",
      "until\r\n",
      " 1 2 3 4 5 6 7 8 9\n",
      "downto\r\n",
      " 10 9 8 7 6 5 4 3 2 1\n",
      "step\r\n",
      " 1 3 5 7 9"
     ]
    }
   ],
   "source": [
    "// for de 1 a 10\n",
    "for (i in 1..10) {\n",
    "    print(\" $i\")\n",
    "}\n",
    "println(\"\\nuntil\")\n",
    "\n",
    "// for de 1 até 9 (exclui-se o último valor)\n",
    "for (i in 1 until 10) {\n",
    "    print(\" $i\")\n",
    "}\n",
    "\n",
    "println(\"\\ndownto\")\n",
    "// for de 10 até 1\n",
    "for (i in 10 downTo 1) {\n",
    "    print(\" $i\")\n",
    "}\n",
    "\n",
    "println(\"\\nstep\")\n",
    "// for de 1 a 10, pulando de 2 em 2\n",
    "for (i in 1..10 step 2) {\n",
    "    print(\" $i\")\n",
    "}"
   ],
   "metadata": {
    "collapsed": false,
    "ExecuteTime": {
     "end_time": "2024-03-10T12:50:34.428245300Z",
     "start_time": "2024-03-10T12:50:34.209828900Z"
    }
   },
   "execution_count": 43
  },
  {
   "cell_type": "markdown",
   "source": [
    "O **for** em Kotlin é bem poderoso, e pode ser usado para percorrer qualquer coisa que seja iterável. Por exemplo, podemos percorrer uma lista:"
   ],
   "metadata": {
    "collapsed": false
   }
  },
  {
   "cell_type": "code",
   "outputs": [
    {
     "name": "stdout",
     "output_type": "stream",
     "text": [
      " 1 2 3 4 5"
     ]
    }
   ],
   "source": [
    "val lista = listOf(1, 2, 3, 4, 5)\n",
    "for (i in lista) {\n",
    "    print(\" $i\")\n",
    "}"
   ],
   "metadata": {
    "collapsed": false,
    "ExecuteTime": {
     "end_time": "2024-03-10T12:50:34.749403900Z",
     "start_time": "2024-03-10T12:50:34.436224100Z"
    }
   },
   "execution_count": 44
  },
  {
   "cell_type": "markdown",
   "source": [
    "Também podemos percorrer uma lista usando o forEach:"
   ],
   "metadata": {
    "collapsed": false
   }
  },
  {
   "cell_type": "code",
   "outputs": [
    {
     "name": "stdout",
     "output_type": "stream",
     "text": [
      "12345"
     ]
    }
   ],
   "source": [
    "val lista2 = listOf(1, 2, 3, 4, 5)\n",
    "lista2.forEach { print(it) }"
   ],
   "metadata": {
    "collapsed": false,
    "ExecuteTime": {
     "end_time": "2024-03-10T12:50:34.938408Z",
     "start_time": "2024-03-10T12:50:34.748406600Z"
    }
   },
   "execution_count": 45
  },
  {
   "cell_type": "markdown",
   "source": [
    "Perceba que o forEach recebe um lambda como parâmetro. O lambda é uma função anônima, ou seja, uma função sem nome. No caso acima, o lambda recebe um parâmetro, que é o elemento da lista, e imprime esse elemento. Se o lambda tiver apenas um parâmetro, podemos omitir o nome do parâmetro e usar **it**. Isso é o mesmo que o código abaixo:"
   ],
   "metadata": {
    "collapsed": false
   }
  },
  {
   "cell_type": "code",
   "outputs": [
    {
     "name": "stdout",
     "output_type": "stream",
     "text": [
      "12345"
     ]
    }
   ],
   "source": [
    "val lista3 = listOf(1, 2, 3, 4, 5)\n",
    "lista3.forEach { elemento -> print(elemento) }"
   ],
   "metadata": {
    "collapsed": false,
    "ExecuteTime": {
     "end_time": "2024-03-10T12:50:35.303432400Z",
     "start_time": "2024-03-10T12:50:34.946387Z"
    }
   },
   "execution_count": 46
  },
  {
   "cell_type": "markdown",
   "source": [
    "O while é similar ao while de outras linguagens:"
   ],
   "metadata": {
    "collapsed": false
   }
  },
  {
   "cell_type": "code",
   "outputs": [
    {
     "name": "stdout",
     "output_type": "stream",
     "text": [
      " 0 1 2 3 4 5 6 7 8 9"
     ]
    }
   ],
   "source": [
    "var i = 0\n",
    "while (i < 10) {\n",
    "    print(\" $i\")\n",
    "    i++\n",
    "}"
   ],
   "metadata": {
    "collapsed": false,
    "ExecuteTime": {
     "end_time": "2024-03-10T12:50:35.311410600Z",
     "start_time": "2024-03-10T12:50:35.120925100Z"
    }
   },
   "execution_count": 47
  },
  {
   "cell_type": "markdown",
   "source": [
    "## Coleção Mutável\n",
    "Uma coleção **mutável**, em termos simples, é uma estrutura de dados que pode ser alterada após sua criação. "
   ],
   "metadata": {
    "collapsed": false
   }
  },
  {
   "cell_type": "markdown",
   "source": [],
   "metadata": {
    "collapsed": false
   }
  },
  {
   "cell_type": "code",
   "execution_count": 48,
   "outputs": [
    {
     "name": "stdout",
     "output_type": "stream",
     "text": [
      "Cadeiras de P5: [PDM, PWEB2, GPS, PPS, PE]\r\n",
      "Cadeira modificada: [PDM, PWEB2, GPS, PPS, CE]\r\n"
     ]
    }
   ],
   "source": [
    "\n",
    "    var mutableCollection: MutableCollection<String> = mutableListOf(\"PDM\", \"PWEB2\", \"GPS\", \"PPS\", \"PE\")\n",
    "    \n",
    "    println(\"Cadeiras de P5: $mutableCollection\")\n",
    "    \n",
    "    mutableCollection.add(\"CE\")\n",
    "    mutableCollection.remove(\"PE\")\n",
    "    \n",
    "    println(\"Cadeira modificada: $mutableCollection\")\n",
    "\n"
   ],
   "metadata": {
    "collapsed": false,
    "ExecuteTime": {
     "end_time": "2024-03-10T12:50:35.425107Z",
     "start_time": "2024-03-10T12:50:35.228631700Z"
    }
   }
  },
  {
   "cell_type": "markdown",
   "source": [],
   "metadata": {
    "collapsed": false
   }
  },
  {
   "cell_type": "code",
   "execution_count": 49,
   "outputs": [
    {
     "name": "stdout",
     "output_type": "stream",
     "text": [
      "Lista original: [maça, banana, laranja]\r\n",
      "Lista foi mudada: [maça, kiwi, laranja]\r\n"
     ]
    }
   ],
   "source": [
    "\n",
    "    val mutableList = mutableListOf(\"maça\", \"banana\", \"laranja\")\n",
    "    \n",
    "    println(\"Lista original: $mutableList\")\n",
    "    \n",
    "    mutableList[1] = \"kiwi\" // mudar o segundo elemento da lista\n",
    "    \n",
    "    println(\"Lista foi mudada: $mutableList\")\n"
   ],
   "metadata": {
    "collapsed": false,
    "ExecuteTime": {
     "end_time": "2024-03-10T12:50:35.494919700Z",
     "start_time": "2024-03-10T12:50:35.380226500Z"
    }
   }
  },
  {
   "cell_type": "markdown",
   "source": [],
   "metadata": {
    "collapsed": false
   }
  },
  {
   "cell_type": "code",
   "execution_count": 50,
   "outputs": [
    {
     "name": "stdout",
     "output_type": "stream",
     "text": [
      "listas de numero: {1=1, 2=2, 3=3, 4=4}\r\n",
      "quadrado foi adicionado!: {1=1, 2=4, 3=9, 4=16}\r\n"
     ]
    }
   ],
   "source": [
    "\n",
    "    var mutableMap = mutableMapOf(\"1\" to 1, \"2\" to 2, \"3\" to 3, \"4\" to 4)\n",
    "    \n",
    "    println(\"listas de numero: $mutableMap\")\n",
    "    \n",
    "    // Transformando todos os valores do mapa em seus quadrados\n",
    "    mutableMap = mutableMap.mapValues { (_, valor) -> valor * valor }.toMutableMap()\n",
    "    \n",
    "    println(\"quadrado foi adicionado!: $mutableMap\")\n"
   ],
   "metadata": {
    "collapsed": false,
    "ExecuteTime": {
     "end_time": "2024-03-10T12:50:35.692392100Z",
     "start_time": "2024-03-10T12:50:35.480957Z"
    }
   }
  },
  {
   "cell_type": "markdown",
   "source": [
    "## Coleção Imutável\n",
    "Uma coleção **mutável**, em termos simples, é uma estrutura de dados que nao pode ser alterada após sua criação. \n",
    "\n"
   ],
   "metadata": {
    "collapsed": false
   }
  },
  {
   "cell_type": "code",
   "execution_count": 51,
   "outputs": [
    {
     "name": "stdout",
     "output_type": "stream",
     "text": [
      "Fruta: Banana, Cor: Amarela\r\n",
      "Fruta: Abacaxi, Cor: Amarelo\r\n"
     ]
    }
   ],
   "source": [
    "// Criando um mapa imutável\n",
    "    val mapaImutavel = mapOf(\n",
    "        \"Maçã\" to \"Vermelha\",\n",
    "        \"Banana\" to \"Amarela\",\n",
    "        \"Abacaxi\" to \"Amarelo\"\n",
    "    )\n",
    "\n",
    "    val novoMapaImutavel = mapaImutavel - \"Maçã\"\n",
    "    for ((fruta, cor) in novoMapaImutavel) {\n",
    "        println(\"Fruta: $fruta, Cor: $cor\")\n",
    "    }\n"
   ],
   "metadata": {
    "collapsed": false,
    "ExecuteTime": {
     "end_time": "2024-03-10T12:52:05.857016300Z",
     "start_time": "2024-03-10T12:52:05.479027300Z"
    }
   }
  },
  {
   "cell_type": "code",
   "execution_count": 52,
   "outputs": [
    {
     "name": "stdout",
     "output_type": "stream",
     "text": [
      "Maçã\r\n",
      "Banana\r\n",
      "Laranja\r\n"
     ]
    }
   ],
   "source": [
    "// Criando um conjunto imutável\n",
    "    val conjuntoImutavel = setOf(\"Maçã\", \"Banana\", \"Laranja\")\n",
    "\n",
    "    // Tentativa de adicionar um elemento (não é possível)\n",
    "    // conjuntoImutavel.add(\"Pêra\") // Isso resultará em erro\n",
    "\n",
    "    // Tentativa de remover um elemento (não é possível)\n",
    "    // conjuntoImutavel.remove(\"Banana\") // Isso resultará em erro\n",
    "\n",
    "    // Iterando sobre os elementos\n",
    "    for (fruta in conjuntoImutavel) {\n",
    "        println(fruta)\n",
    "    }\n"
   ],
   "metadata": {
    "collapsed": false,
    "ExecuteTime": {
     "end_time": "2024-03-10T12:52:22.166357800Z",
     "start_time": "2024-03-10T12:52:22.060639800Z"
    }
   }
  },
  {
   "cell_type": "code",
   "execution_count": 56,
   "outputs": [
    {
     "name": "stdout",
     "output_type": "stream",
     "text": [
      "Nome: João, CPF: 123.456.789-00\r\n",
      "Nome: Maria, CPF: 987.654.321-00\r\n",
      "Nome: Pedro, CPF: 111.222.333-44\r\n"
     ]
    }
   ],
   "source": [
    "data class Pessoa(val nome: String, val cpf: String)\n",
    "    // Criando uma lista imutável de pessoas\n",
    "    val listaDePessoas = listOf(\n",
    "        Pessoa(\"João\", \"123.456.789-00\"),\n",
    "        Pessoa(\"Maria\", \"987.654.321-00\"),\n",
    "        Pessoa(\"Pedro\", \"111.222.333-44\")\n",
    "    )\n",
    "\n",
    "    // Iterando sobre as pessoas na lista e imprimindo seus dados\n",
    "    for (pessoa in listaDePessoas) {\n",
    "        println(\"Nome: ${pessoa.nome}, CPF: ${pessoa.cpf}\")\n",
    "    }\n",
    "\n",
    "    // Tentativa de modificar o CPF de uma pessoa (não é possível em uma lista imutável)\n",
    "    // listaDePessoas[0].cpf = \"000.111.222-33\" // Isso resultará em um erro\n",
    "\n"
   ],
   "metadata": {
    "collapsed": false,
    "ExecuteTime": {
     "end_time": "2024-03-10T13:05:23.381268300Z",
     "start_time": "2024-03-10T13:05:22.964382500Z"
    }
   }
  },
  {
   "cell_type": "code",
   "execution_count": 57,
   "outputs": [
    {
     "name": "stdout",
     "output_type": "stream",
     "text": [
      "ID: 1, Nome: Item A\r\n",
      "ID: 2, Nome: Item B\r\n",
      "ID: 3, Nome: Item C\r\n"
     ]
    }
   ],
   "source": [
    "data class Item(val id: Int, val nome: String)\n",
    "    // Criando uma lista imutável de objetos do tipo Item\n",
    "    val listaDeItens = listOf(\n",
    "        Item(1, \"Item A\"),\n",
    "        Item(2, \"Item B\"),\n",
    "        Item(3, \"Item C\")\n",
    "    )\n",
    "\n",
    "    // Iterando sobre os itens na lista e imprimindo seus dados\n",
    "    for (item in listaDeItens) {\n",
    "        println(\"ID: ${item.id}, Nome: ${item.nome}\")\n",
    "    }\n",
    "\n",
    "    // Tentativa de modificar um dos itens na lista (não é possível em uma lista imutável)\n",
    "    // listaDeItens[0] = Item(1, \"Novo Item\") // Isso resultará em um erro\n"
   ],
   "metadata": {
    "collapsed": false,
    "ExecuteTime": {
     "end_time": "2024-03-10T13:05:46.225754700Z",
     "start_time": "2024-03-10T13:05:45.856741900Z"
    }
   }
  },
  {
   "cell_type": "code",
   "execution_count": null,
   "outputs": [],
   "source": [],
   "metadata": {
    "collapsed": false
   }
  }
 ],
 "metadata": {
  "kernelspec": {
   "display_name": "Kotlin",
   "language": "kotlin",
   "name": "kotlin"
  },
  "language_info": {
   "name": "kotlin",
   "version": "1.9.0",
   "mimetype": "text/x-kotlin",
   "file_extension": ".kt",
   "pygments_lexer": "kotlin",
   "codemirror_mode": "text/x-kotlin",
   "nbconvert_exporter": ""
  },
  "ktnbPluginMetadata": {
   "projectDependencies": [
    "introducao-kotlin"
   ]
  }
 },
 "nbformat": 4,
 "nbformat_minor": 0
}
